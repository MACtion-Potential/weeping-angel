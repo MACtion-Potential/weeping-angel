{
 "cells": [
  {
   "cell_type": "markdown",
   "metadata": {},
   "source": [
    "# Eye-Blink Detection\n",
    "This notebook is an exploratory analysis of some preliminary data for the 2021-2022 blink-controlled car project (clever name pending). This is our testing space for trying out different analysis approaches."
   ]
  },
  {
   "cell_type": "markdown",
   "metadata": {},
   "source": [
    "## Preliminary Data\n",
    "The following uses data on normal and driving-type blinks recorded on November 11 2021, by Matthew Blacker, Michael Kim, and Alex Pleava, from Matthew Blacker.\n",
    "The data consists of three files:\n",
    "1. **Blinks_60s_BlinkEvery5s.csv**: Data on normal blinks, roughly every 5 seconds for 60 seconds (minus stream initiation time)\n",
    "2. **DrivingBlinksLeftEye_120s_BlinkEvery10sFor2s.csv**: Data on left-eye driving blinks, roughly every 10 seconds for 120 seconds (minus stream initiation time).\n",
    "3. **DrivingBlinksRightEye_120s_BlinkEvery10sFor2s.csv**: Data on right-eye driving blinks, roughly every 10 seconds for 120 seconds (minus stream initiation time)."
   ]
  },
  {
   "cell_type": "code",
   "execution_count": 5,
   "metadata": {},
   "outputs": [
    {
     "name": "stdout",
     "output_type": "stream",
     "text": [
      "   timestamps     TP9     AF7     AF8    TP10  Right AUX\n",
      "0  1635968532   3.418  36.621  33.691  24.902     61.035\n",
      "1  1635968532 -18.066  36.621  32.227  30.273     67.871\n",
      "2  1635968532  32.227  31.250  31.250  25.879     94.238\n",
      "3  1635968532  88.867  30.273  31.738  15.137    110.352\n",
      "4  1635968532  27.832  31.738  35.645  16.602     94.727\n"
     ]
    }
   ],
   "source": [
    "# Load in the data\n",
    "import pandas as pd\n",
    "raw_recordings = {\"Normal_Blinks\": pd.read_csv(\"Blinks_60s_BlinkEvery5s.csv\"), \n",
    "                \"Driving_Left\": pd.read_csv(\"DrivingBlinksLeftEye_120s_BlinkEvery10sFor2s.csv\"), \n",
    "                \"Driving_Right\": pd.read_csv(\"DrivingBlinksRightEye_120s_BlinkEvery10sFor2s.csv\")}\n",
    "print(raw_recordings[\"Normal_Blinks\"].head())"
   ]
  },
  {
   "cell_type": "code",
   "execution_count": 10,
   "metadata": {},
   "outputs": [
    {
     "name": "stdout",
     "output_type": "stream",
     "text": [
      "Creating RawArray with float64 data, n_channels=6, n_times=14124\n",
      "    Range : 0 ... 14123 =      0.000 ...    55.168 secs\n",
      "Ready.\n",
      "Creating RawArray with float64 data, n_channels=6, n_times=29550\n",
      "    Range : 0 ... 29549 =      0.000 ...   115.426 secs\n",
      "Ready.\n",
      "Creating RawArray with float64 data, n_channels=6, n_times=29517\n",
      "    Range : 0 ... 29516 =      0.000 ...   115.297 secs\n",
      "Ready.\n"
     ]
    },
    {
     "ename": "ValueError",
     "evalue": "picks (NoneNone, treated as \"data\") yielded no channels, consider passing picks explicitly",
     "output_type": "error",
     "traceback": [
      "\u001b[1;31m---------------------------------------------------------------------------\u001b[0m",
      "\u001b[1;31mValueError\u001b[0m                                Traceback (most recent call last)",
      "\u001b[1;32m~\\AppData\\Local\\Temp/ipykernel_17812/4016143343.py\u001b[0m in \u001b[0;36m<module>\u001b[1;34m\u001b[0m\n\u001b[0;32m      4\u001b[0m \u001b[1;31m# Create the MNE raw data object using the raw data\u001b[0m\u001b[1;33m\u001b[0m\u001b[1;33m\u001b[0m\u001b[1;33m\u001b[0m\u001b[0m\n\u001b[0;32m      5\u001b[0m \u001b[0mraw_data\u001b[0m \u001b[1;33m=\u001b[0m \u001b[1;33m{\u001b[0m\u001b[0mkey\u001b[0m \u001b[1;33m:\u001b[0m \u001b[0mmne\u001b[0m\u001b[1;33m.\u001b[0m\u001b[0mio\u001b[0m\u001b[1;33m.\u001b[0m\u001b[0mRawArray\u001b[0m\u001b[1;33m(\u001b[0m\u001b[0mraw_recordings\u001b[0m\u001b[1;33m[\u001b[0m\u001b[0mkey\u001b[0m\u001b[1;33m]\u001b[0m\u001b[1;33m.\u001b[0m\u001b[0mvalues\u001b[0m\u001b[1;33m.\u001b[0m\u001b[0mT\u001b[0m\u001b[1;33m,\u001b[0m \u001b[0minfo\u001b[0m\u001b[1;33m)\u001b[0m \u001b[1;32mfor\u001b[0m \u001b[0mkey\u001b[0m\u001b[1;33m,\u001b[0m \u001b[0m_\u001b[0m \u001b[1;32min\u001b[0m \u001b[0mraw_recordings\u001b[0m\u001b[1;33m.\u001b[0m\u001b[0mitems\u001b[0m\u001b[1;33m(\u001b[0m\u001b[1;33m)\u001b[0m\u001b[1;33m}\u001b[0m\u001b[1;33m\u001b[0m\u001b[1;33m\u001b[0m\u001b[0m\n\u001b[1;32m----> 6\u001b[1;33m \u001b[0mraw_data\u001b[0m\u001b[1;33m[\u001b[0m\u001b[1;34m\"Normal_Blinks\"\u001b[0m\u001b[1;33m]\u001b[0m\u001b[1;33m.\u001b[0m\u001b[0mplot_psd\u001b[0m\u001b[1;33m(\u001b[0m\u001b[1;33m)\u001b[0m\u001b[1;33m\u001b[0m\u001b[1;33m\u001b[0m\u001b[0m\n\u001b[0m",
      "\u001b[1;32m<decorator-gen-190>\u001b[0m in \u001b[0;36mplot_psd\u001b[1;34m(self, fmin, fmax, tmin, tmax, proj, n_fft, n_overlap, reject_by_annotation, picks, ax, color, xscale, area_mode, area_alpha, dB, estimate, show, n_jobs, average, line_alpha, spatial_colors, sphere, window, verbose)\u001b[0m\n",
      "\u001b[1;32mc:\\Users\\alexp\\5th_Year\\Maction_Potential\\Maction_Potential_Env\\lib\\site-packages\\mne\\io\\base.py\u001b[0m in \u001b[0;36mplot_psd\u001b[1;34m(self, fmin, fmax, tmin, tmax, proj, n_fft, n_overlap, reject_by_annotation, picks, ax, color, xscale, area_mode, area_alpha, dB, estimate, show, n_jobs, average, line_alpha, spatial_colors, sphere, window, verbose)\u001b[0m\n\u001b[0;32m   1546\u001b[0m                  \u001b[0mspatial_colors\u001b[0m\u001b[1;33m=\u001b[0m\u001b[1;32mTrue\u001b[0m\u001b[1;33m,\u001b[0m \u001b[0msphere\u001b[0m\u001b[1;33m=\u001b[0m\u001b[1;32mNone\u001b[0m\u001b[1;33m,\u001b[0m \u001b[0mwindow\u001b[0m\u001b[1;33m=\u001b[0m\u001b[1;34m'hamming'\u001b[0m\u001b[1;33m,\u001b[0m\u001b[1;33m\u001b[0m\u001b[1;33m\u001b[0m\u001b[0m\n\u001b[0;32m   1547\u001b[0m                  verbose=None):\n\u001b[1;32m-> 1548\u001b[1;33m         return plot_raw_psd(self, fmin=fmin, fmax=fmax, tmin=tmin, tmax=tmax,\n\u001b[0m\u001b[0;32m   1549\u001b[0m                             \u001b[0mproj\u001b[0m\u001b[1;33m=\u001b[0m\u001b[0mproj\u001b[0m\u001b[1;33m,\u001b[0m \u001b[0mn_fft\u001b[0m\u001b[1;33m=\u001b[0m\u001b[0mn_fft\u001b[0m\u001b[1;33m,\u001b[0m \u001b[0mn_overlap\u001b[0m\u001b[1;33m=\u001b[0m\u001b[0mn_overlap\u001b[0m\u001b[1;33m,\u001b[0m\u001b[1;33m\u001b[0m\u001b[1;33m\u001b[0m\u001b[0m\n\u001b[0;32m   1550\u001b[0m                             \u001b[0mreject_by_annotation\u001b[0m\u001b[1;33m=\u001b[0m\u001b[0mreject_by_annotation\u001b[0m\u001b[1;33m,\u001b[0m\u001b[1;33m\u001b[0m\u001b[1;33m\u001b[0m\u001b[0m\n",
      "\u001b[1;32m<decorator-gen-162>\u001b[0m in \u001b[0;36mplot_raw_psd\u001b[1;34m(raw, fmin, fmax, tmin, tmax, proj, n_fft, n_overlap, reject_by_annotation, picks, ax, color, xscale, area_mode, area_alpha, dB, estimate, show, n_jobs, average, line_alpha, spatial_colors, sphere, window, verbose)\u001b[0m\n",
      "\u001b[1;32mc:\\Users\\alexp\\5th_Year\\Maction_Potential\\Maction_Potential_Env\\lib\\site-packages\\mne\\viz\\raw.py\u001b[0m in \u001b[0;36mplot_raw_psd\u001b[1;34m(raw, fmin, fmax, tmin, tmax, proj, n_fft, n_overlap, reject_by_annotation, picks, ax, color, xscale, area_mode, area_alpha, dB, estimate, show, n_jobs, average, line_alpha, spatial_colors, sphere, window, verbose)\u001b[0m\n\u001b[0;32m    430\u001b[0m         \u001b[0mn_fft\u001b[0m \u001b[1;33m=\u001b[0m \u001b[0mmin\u001b[0m\u001b[1;33m(\u001b[0m\u001b[0mnp\u001b[0m\u001b[1;33m.\u001b[0m\u001b[0mdiff\u001b[0m\u001b[1;33m(\u001b[0m\u001b[0mraw\u001b[0m\u001b[1;33m.\u001b[0m\u001b[0mtime_as_index\u001b[0m\u001b[1;33m(\u001b[0m\u001b[1;33m[\u001b[0m\u001b[0mtmin\u001b[0m\u001b[1;33m,\u001b[0m \u001b[0mtmax\u001b[0m\u001b[1;33m]\u001b[0m\u001b[1;33m)\u001b[0m\u001b[1;33m)\u001b[0m\u001b[1;33m[\u001b[0m\u001b[1;36m0\u001b[0m\u001b[1;33m]\u001b[0m \u001b[1;33m+\u001b[0m \u001b[1;36m1\u001b[0m\u001b[1;33m,\u001b[0m \u001b[1;36m2048\u001b[0m\u001b[1;33m)\u001b[0m\u001b[1;33m\u001b[0m\u001b[1;33m\u001b[0m\u001b[0m\n\u001b[0;32m    431\u001b[0m     \u001b[1;31m# generate figure\u001b[0m\u001b[1;33m\u001b[0m\u001b[1;33m\u001b[0m\u001b[1;33m\u001b[0m\u001b[0m\n\u001b[1;32m--> 432\u001b[1;33m     fig = _psd_figure(\n\u001b[0m\u001b[0;32m    433\u001b[0m         \u001b[0minst\u001b[0m\u001b[1;33m=\u001b[0m\u001b[0mraw\u001b[0m\u001b[1;33m,\u001b[0m \u001b[0mproj\u001b[0m\u001b[1;33m=\u001b[0m\u001b[0mproj\u001b[0m\u001b[1;33m,\u001b[0m \u001b[0mpicks\u001b[0m\u001b[1;33m=\u001b[0m\u001b[0mpicks\u001b[0m\u001b[1;33m,\u001b[0m \u001b[0maxes\u001b[0m\u001b[1;33m=\u001b[0m\u001b[0max\u001b[0m\u001b[1;33m,\u001b[0m \u001b[0mtmin\u001b[0m\u001b[1;33m=\u001b[0m\u001b[0mtmin\u001b[0m\u001b[1;33m,\u001b[0m \u001b[0mtmax\u001b[0m\u001b[1;33m=\u001b[0m\u001b[0mtmax\u001b[0m\u001b[1;33m,\u001b[0m\u001b[1;33m\u001b[0m\u001b[1;33m\u001b[0m\u001b[0m\n\u001b[0;32m    434\u001b[0m         \u001b[0mfmin\u001b[0m\u001b[1;33m=\u001b[0m\u001b[0mfmin\u001b[0m\u001b[1;33m,\u001b[0m \u001b[0mfmax\u001b[0m\u001b[1;33m=\u001b[0m\u001b[0mfmax\u001b[0m\u001b[1;33m,\u001b[0m \u001b[0msphere\u001b[0m\u001b[1;33m=\u001b[0m\u001b[0msphere\u001b[0m\u001b[1;33m,\u001b[0m \u001b[0mxscale\u001b[0m\u001b[1;33m=\u001b[0m\u001b[0mxscale\u001b[0m\u001b[1;33m,\u001b[0m \u001b[0mdB\u001b[0m\u001b[1;33m=\u001b[0m\u001b[0mdB\u001b[0m\u001b[1;33m,\u001b[0m\u001b[1;33m\u001b[0m\u001b[1;33m\u001b[0m\u001b[0m\n",
      "\u001b[1;32mc:\\Users\\alexp\\5th_Year\\Maction_Potential\\Maction_Potential_Env\\lib\\site-packages\\mne\\viz\\_figure.py\u001b[0m in \u001b[0;36m_psd_figure\u001b[1;34m(inst, proj, picks, axes, area_mode, tmin, tmax, fmin, fmax, n_jobs, color, area_alpha, dB, estimate, average, spatial_colors, xscale, line_alpha, sphere, window, **kwargs)\u001b[0m\n\u001b[0;32m   2350\u001b[0m     \u001b[0m_check_option\u001b[0m\u001b[1;33m(\u001b[0m\u001b[1;34m'xscale'\u001b[0m\u001b[1;33m,\u001b[0m \u001b[0mxscale\u001b[0m\u001b[1;33m,\u001b[0m \u001b[1;33m(\u001b[0m\u001b[1;34m'log'\u001b[0m\u001b[1;33m,\u001b[0m \u001b[1;34m'linear'\u001b[0m\u001b[1;33m)\u001b[0m\u001b[1;33m)\u001b[0m\u001b[1;33m\u001b[0m\u001b[1;33m\u001b[0m\u001b[0m\n\u001b[0;32m   2351\u001b[0m     \u001b[0msphere\u001b[0m \u001b[1;33m=\u001b[0m \u001b[0m_check_sphere\u001b[0m\u001b[1;33m(\u001b[0m\u001b[0msphere\u001b[0m\u001b[1;33m,\u001b[0m \u001b[0minst\u001b[0m\u001b[1;33m.\u001b[0m\u001b[0minfo\u001b[0m\u001b[1;33m)\u001b[0m\u001b[1;33m\u001b[0m\u001b[1;33m\u001b[0m\u001b[0m\n\u001b[1;32m-> 2352\u001b[1;33m     \u001b[0mpicks\u001b[0m \u001b[1;33m=\u001b[0m \u001b[0m_picks_to_idx\u001b[0m\u001b[1;33m(\u001b[0m\u001b[0minst\u001b[0m\u001b[1;33m.\u001b[0m\u001b[0minfo\u001b[0m\u001b[1;33m,\u001b[0m \u001b[0mpicks\u001b[0m\u001b[1;33m)\u001b[0m\u001b[1;33m\u001b[0m\u001b[1;33m\u001b[0m\u001b[0m\n\u001b[0m\u001b[0;32m   2353\u001b[0m     \u001b[0mtitles\u001b[0m \u001b[1;33m=\u001b[0m \u001b[0m_handle_default\u001b[0m\u001b[1;33m(\u001b[0m\u001b[1;34m'titles'\u001b[0m\u001b[1;33m,\u001b[0m \u001b[1;32mNone\u001b[0m\u001b[1;33m)\u001b[0m\u001b[1;33m\u001b[0m\u001b[1;33m\u001b[0m\u001b[0m\n\u001b[0;32m   2354\u001b[0m     \u001b[0munits\u001b[0m \u001b[1;33m=\u001b[0m \u001b[0m_handle_default\u001b[0m\u001b[1;33m(\u001b[0m\u001b[1;34m'units'\u001b[0m\u001b[1;33m,\u001b[0m \u001b[1;32mNone\u001b[0m\u001b[1;33m)\u001b[0m\u001b[1;33m\u001b[0m\u001b[1;33m\u001b[0m\u001b[0m\n",
      "\u001b[1;32mc:\\Users\\alexp\\5th_Year\\Maction_Potential\\Maction_Potential_Env\\lib\\site-packages\\mne\\io\\pick.py\u001b[0m in \u001b[0;36m_picks_to_idx\u001b[1;34m(info, picks, none, exclude, allow_empty, with_ref_meg, return_kind)\u001b[0m\n\u001b[0;32m   1043\u001b[0m         \u001b[1;32mraise\u001b[0m \u001b[0mValueError\u001b[0m\u001b[1;33m(\u001b[0m\u001b[1;34m'picks must be 1D, got %sD'\u001b[0m \u001b[1;33m%\u001b[0m \u001b[1;33m(\u001b[0m\u001b[0mpicks\u001b[0m\u001b[1;33m.\u001b[0m\u001b[0mndim\u001b[0m\u001b[1;33m,\u001b[0m\u001b[1;33m)\u001b[0m\u001b[1;33m)\u001b[0m\u001b[1;33m\u001b[0m\u001b[1;33m\u001b[0m\u001b[0m\n\u001b[0;32m   1044\u001b[0m     \u001b[1;32mif\u001b[0m \u001b[0mpicks\u001b[0m\u001b[1;33m.\u001b[0m\u001b[0mdtype\u001b[0m\u001b[1;33m.\u001b[0m\u001b[0mchar\u001b[0m \u001b[1;32min\u001b[0m \u001b[1;33m(\u001b[0m\u001b[1;34m'S'\u001b[0m\u001b[1;33m,\u001b[0m \u001b[1;34m'U'\u001b[0m\u001b[1;33m)\u001b[0m\u001b[1;33m:\u001b[0m\u001b[1;33m\u001b[0m\u001b[1;33m\u001b[0m\u001b[0m\n\u001b[1;32m-> 1045\u001b[1;33m         picks = _picks_str_to_idx(info, picks, exclude, with_ref_meg,\n\u001b[0m\u001b[0;32m   1046\u001b[0m                                   \u001b[0mreturn_kind\u001b[0m\u001b[1;33m,\u001b[0m \u001b[0mextra_repr\u001b[0m\u001b[1;33m,\u001b[0m \u001b[0mallow_empty\u001b[0m\u001b[1;33m,\u001b[0m\u001b[1;33m\u001b[0m\u001b[1;33m\u001b[0m\u001b[0m\n\u001b[0;32m   1047\u001b[0m                                   orig_picks)\n",
      "\u001b[1;32mc:\\Users\\alexp\\5th_Year\\Maction_Potential\\Maction_Potential_Env\\lib\\site-packages\\mne\\io\\pick.py\u001b[0m in \u001b[0;36m_picks_str_to_idx\u001b[1;34m(info, picks, exclude, with_ref_meg, return_kind, extra_repr, allow_empty, orig_picks)\u001b[0m\n\u001b[0;32m   1099\u001b[0m             \u001b[1;32mif\u001b[0m \u001b[0mlen\u001b[0m\u001b[1;33m(\u001b[0m\u001b[0mpicks_generic\u001b[0m\u001b[1;33m)\u001b[0m \u001b[1;33m==\u001b[0m \u001b[1;36m0\u001b[0m \u001b[1;32mand\u001b[0m \u001b[0morig_picks\u001b[0m \u001b[1;32mis\u001b[0m \u001b[1;32mNone\u001b[0m \u001b[1;32mand\u001b[0m\u001b[0;31m \u001b[0m\u001b[0;31m\\\u001b[0m\u001b[1;33m\u001b[0m\u001b[1;33m\u001b[0m\u001b[0m\n\u001b[0;32m   1100\u001b[0m                     \u001b[1;32mnot\u001b[0m \u001b[0mallow_empty\u001b[0m\u001b[1;33m:\u001b[0m\u001b[1;33m\u001b[0m\u001b[1;33m\u001b[0m\u001b[0m\n\u001b[1;32m-> 1101\u001b[1;33m                 raise ValueError('picks (%s) yielded no channels, consider '\n\u001b[0m\u001b[0;32m   1102\u001b[0m                                  \u001b[1;34m'passing picks explicitly'\u001b[0m\u001b[1;33m\u001b[0m\u001b[1;33m\u001b[0m\u001b[0m\n\u001b[0;32m   1103\u001b[0m                                  % (repr(orig_picks) + extra_repr,))\n",
      "\u001b[1;31mValueError\u001b[0m: picks (NoneNone, treated as \"data\") yielded no channels, consider passing picks explicitly"
     ]
    }
   ],
   "source": [
    "# Create the MNE info object\n",
    "import mne\n",
    "info = mne.create_info([\"timestamps\",\"TP9\",\"AF7\",\"AF8\", \"TP10\", \"Right AUX\"], 256)\n",
    "# Create the MNE raw data object using the raw data\n",
    "raw_data = {key : mne.io.RawArray(raw_recordings[key].values.T, info) for key, _ in raw_recordings.items()}\n",
    "raw_data[\"Normal_Blinks\"].plot_psd()"
   ]
  },
  {
   "cell_type": "code",
   "execution_count": null,
   "metadata": {},
   "outputs": [],
   "source": []
  }
 ],
 "metadata": {
  "interpreter": {
   "hash": "a31866e27118e56994b99e08b1f4a520f3bfadb88d8baa1396a6be5ad18b32eb"
  },
  "kernelspec": {
   "display_name": "Python 3.9.6 64-bit ('Maction_Potential_Env': venv)",
   "name": "python3"
  },
  "language_info": {
   "codemirror_mode": {
    "name": "ipython",
    "version": 3
   },
   "file_extension": ".py",
   "mimetype": "text/x-python",
   "name": "python",
   "nbconvert_exporter": "python",
   "pygments_lexer": "ipython3",
   "version": "3.9.6"
  },
  "orig_nbformat": 4
 },
 "nbformat": 4,
 "nbformat_minor": 2
}
